import matplotlib.pyplot as plt
import numpy as np
x = np.array(["Apple","Orange","Kiwi","Dragonfruit"])
y = np.array([200,100,300,500])
plt.bar(x,y,edgecolor="red")
plt.show()