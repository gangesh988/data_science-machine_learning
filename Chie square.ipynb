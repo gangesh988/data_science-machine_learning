{
 "cells": [
  {
   "cell_type": "code",
   "execution_count": 1,
   "id": "0c53731e-f7a9-4fe2-9a2e-2fc544d6bb9d",
   "metadata": {},
   "outputs": [],
   "source": [
    "# chi_square_test_device_vs_satisfaction.py\n",
    "\n",
    "import numpy as np\n",
    "import scipy.stats as stats\n",
    "import pandas as pd\n",
    "\n",
    "# Step 1: Hypotheses\n",
    "# H0: There is no association between device type and customer satisfaction.\n",
    "# H1: There is a significant association between device type and customer satisfaction."
   ]
  },
  {
   "cell_type": "code",
   "execution_count": 2,
   "id": "a4f149fd-03d4-417a-a048-345b757033b6",
   "metadata": {},
   "outputs": [
    {
     "name": "stdout",
     "output_type": "stream",
     "text": [
      "Observed Frequencies:\n",
      "\n",
      "                  Smart Thermostat  Smart Light\n",
      "Very Satisfied                  50           70\n",
      "Satisfied                       80          100\n",
      "Neutral                         60           90\n",
      "Unsatisfied                     30           50\n",
      "Very Unsatisfied                20           50\n"
     ]
    }
   ],
   "source": [
    "# Step 2: Observed Frequencies (contingency table)\n",
    "observed = np.array([\n",
    "    [50, 70],   # Very Satisfied\n",
    "    [80, 100],  # Satisfied\n",
    "    [60, 90],   # Neutral\n",
    "    [30, 50],   # Unsatisfied\n",
    "    [20, 50]    # Very Unsatisfied\n",
    "])\n",
    "# Create a DataFrame for better visualization (optional)\n",
    "labels = ['Very Satisfied', 'Satisfied', 'Neutral', 'Unsatisfied', 'Very Unsatisfied']\n",
    "device_types = ['Smart Thermostat', 'Smart Light']\n",
    "observed_df = pd.DataFrame(observed, index=labels, columns=device_types)\n",
    "print(\"Observed Frequencies:\\n\")\n",
    "print(observed_df)"
   ]
  },
  {
   "cell_type": "code",
   "execution_count": 3,
   "id": "b9301770-b5c5-4409-becf-0130510be55d",
   "metadata": {},
   "outputs": [],
   "source": [
    "# Step 3: Compute the Chi-Square Statistic manually\n",
    "total = observed.sum()\n",
    "row_totals = observed.sum(axis=1).reshape(-1, 1)\n",
    "col_totals = observed.sum(axis=0).reshape(1, -1)\n",
    "expected = row_totals @ col_totals / total  # outer product\n",
    "chi_square_stat = ((observed - expected) ** 2 / expected).sum()\n"
   ]
  },
  {
   "cell_type": "code",
   "execution_count": 4,
   "id": "d4861165-cafc-4712-aecd-ae146a19ef26",
   "metadata": {},
   "outputs": [],
   "source": [
    "# Step 4: Determine Degrees of Freedom\n",
    "df = (observed.shape[0] - 1) * (observed.shape[1] - 1)"
   ]
  },
  {
   "cell_type": "code",
   "execution_count": 5,
   "id": "932fcb03-8d87-423e-963f-1440dbe43b3a",
   "metadata": {},
   "outputs": [],
   "source": [
    "# Step 5: Determine Critical Value and p-value\n",
    "alpha = 0.05\n",
    "critical_value = stats.chi2.ppf(1 - alpha, df)\n",
    "p_value = 1 - stats.chi2.cdf(chi_square_stat, df)"
   ]
  },
  {
   "cell_type": "code",
   "execution_count": 6,
   "id": "1a3f90f6-9d83-4a76-9a11-0d41960c685b",
   "metadata": {},
   "outputs": [],
   "source": [
    "# Step 6: Make a Decision\n",
    "if chi_square_stat > critical_value:\n",
    "    decision = \"Reject Null Hypothesis\"\n",
    "    conclusion = \"There is a significant association between device type and customer satisfaction.\"\n",
    "else:\n",
    "    decision = \"Fail to Reject Null Hypothesis\"\n",
    "    conclusion = \"There is no significant association between device type and customer satisfaction.\""
   ]
  },
  {
   "cell_type": "code",
   "execution_count": 7,
   "id": "301e4614-7167-4378-b646-5334f6fdf420",
   "metadata": {},
   "outputs": [
    {
     "name": "stdout",
     "output_type": "stream",
     "text": [
      "\n",
      "--- Chi-Square Test Results ---\n",
      "Chi-Square Statistic: 5.64\n",
      "Degrees of Freedom: 4\n",
      "Critical Value (alpha = 0.05): 9.49\n",
      "P-Value: 0.2278\n",
      "Decision: Fail to Reject Null Hypothesis\n",
      "Conclusion: There is no significant association between device type and customer satisfaction.\n"
     ]
    }
   ],
   "source": [
    "# Final Output\n",
    "print(\"\\n--- Chi-Square Test Results ---\")\n",
    "print(f\"Chi-Square Statistic: {chi_square_stat:.2f}\")\n",
    "print(f\"Degrees of Freedom: {df}\")\n",
    "print(f\"Critical Value (alpha = 0.05): {critical_value:.2f}\")\n",
    "print(f\"P-Value: {p_value:.4f}\")\n",
    "print(f\"Decision: {decision}\")\n",
    "print(f\"Conclusion: {conclusion}\")"
   ]
  }
 ],
 "metadata": {
  "kernelspec": {
   "display_name": "Python [conda env:base] *",
   "language": "python",
   "name": "conda-base-py"
  },
  "language_info": {
   "codemirror_mode": {
    "name": "ipython",
    "version": 3
   },
   "file_extension": ".py",
   "mimetype": "text/x-python",
   "name": "python",
   "nbconvert_exporter": "python",
   "pygments_lexer": "ipython3",
   "version": "3.12.7"
  }
 },
 "nbformat": 4,
 "nbformat_minor": 5
}
