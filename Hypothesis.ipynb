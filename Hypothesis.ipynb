{
 "cells": [
  {
   "cell_type": "code",
   "execution_count": 1,
   "id": "08f8879b-0f78-47e3-ba0a-b403727e9577",
   "metadata": {},
   "outputs": [],
   "source": [
    "# Hypothesis Testing for Weekly Operating Cost\n",
    "\n",
    "import scipy.stats as stats\n",
    "import math\n",
    "\n",
    "# Step 1: Hypotheses\n",
    "# Null Hypothesis H0: μ = Theoretical weekly cost\n",
    "# Alternative Hypothesis H1: μ > Theoretical weekly cost (costs are higher)"
   ]
  },
  {
   "cell_type": "code",
   "execution_count": 2,
   "id": "a63bf21e-22b9-484c-9cf3-594975a51942",
   "metadata": {},
   "outputs": [],
   "source": [
    "# Step 2: Calculate Test Statistic\n",
    "sample_mean = 3050  # Rs.\n",
    "n = 25  # Sample size\n",
    "X_mean = 600  # Mean units produced\n",
    "X_std = 25    # Standard deviation of units produced\n",
    "# Theoretical weekly cost = 1000 + 5 * X_mean\n",
    "theoretical_mean = 1000 + 5 * X_mean  # = 1000 + 3000 = Rs. 4000\n",
    "\n",
    "# Standard deviation of weekly cost = 5 * std(X) = 5 * 25 = 125\n",
    "std_dev = 5 * X_std\n",
    "\n",
    "# Standard error\n",
    "se = std_dev / math.sqrt(n)\n",
    "\n",
    "# Test statistic (z-score since population std dev is known)\n",
    "z = (sample_mean - theoretical_mean) / se"
   ]
  },
  {
   "cell_type": "code",
   "execution_count": 3,
   "id": "277b92fb-4a19-44f7-81af-f8ed0703be18",
   "metadata": {},
   "outputs": [],
   "source": [
    "# Step 3: Determine Critical Value for one-tailed test\n",
    "alpha = 0.05\n",
    "critical_value = stats.norm.ppf(1 - alpha)  # z at 95%"
   ]
  },
  {
   "cell_type": "code",
   "execution_count": 4,
   "id": "28bb2f74-c6fc-4710-8af0-9ff31b58cfc7",
   "metadata": {},
   "outputs": [],
   "source": [
    "# Step 4: Decision\n",
    "if z > critical_value:\n",
    "    decision = \"Reject Null Hypothesis\"\n",
    "else:\n",
    "    decision = \"Fail to Reject Null Hypothesis\""
   ]
  },
  {
   "cell_type": "code",
   "execution_count": 5,
   "id": "624cfa9e-5f36-4062-b374-de7b40183cc5",
   "metadata": {},
   "outputs": [],
   "source": [
    "# Step 5: Conclusion\n",
    "if decision == \"Reject Null Hypothesis\":\n",
    "    conclusion = \"There is strong evidence that the weekly operating costs are higher than the model suggests.\"\n",
    "else:\n",
    "    conclusion = \"There is not enough evidence to conclude that the weekly operating costs are higher.\""
   ]
  },
  {
   "cell_type": "code",
   "execution_count": 6,
   "id": "39d942f7-7969-4c52-bde2-095721181662",
   "metadata": {},
   "outputs": [
    {
     "name": "stdout",
     "output_type": "stream",
     "text": [
      "--- Hypothesis Testing Results ---\n",
      "Sample Mean: Rs. 3050\n",
      "Theoretical Mean: Rs. 4000\n",
      "Standard Error: 25.00\n",
      "Test Statistic (z): -38.00\n",
      "Critical Value (z_0.05): 1.64\n",
      "Decision: Fail to Reject Null Hypothesis\n",
      "Conclusion: There is not enough evidence to conclude that the weekly operating costs are higher.\n"
     ]
    }
   ],
   "source": [
    "# Display results\n",
    "print(\"--- Hypothesis Testing Results ---\")\n",
    "print(f\"Sample Mean: Rs. {sample_mean}\")\n",
    "print(f\"Theoretical Mean: Rs. {theoretical_mean}\")\n",
    "print(f\"Standard Error: {se:.2f}\")\n",
    "print(f\"Test Statistic (z): {z:.2f}\")\n",
    "print(f\"Critical Value (z_0.05): {critical_value:.2f}\")\n",
    "print(f\"Decision: {decision}\")\n",
    "print(f\"Conclusion: {conclusion}\")"
   ]
  }
 ],
 "metadata": {
  "kernelspec": {
   "display_name": "Python [conda env:base] *",
   "language": "python",
   "name": "conda-base-py"
  },
  "language_info": {
   "codemirror_mode": {
    "name": "ipython",
    "version": 3
   },
   "file_extension": ".py",
   "mimetype": "text/x-python",
   "name": "python",
   "nbconvert_exporter": "python",
   "pygments_lexer": "ipython3",
   "version": "3.12.7"
  }
 },
 "nbformat": 4,
 "nbformat_minor": 5
}
